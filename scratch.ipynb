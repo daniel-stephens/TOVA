{
 "cells": [
  {
   "cell_type": "code",
   "execution_count": 1,
   "metadata": {},
   "outputs": [],
   "source": [
    "import chromadb"
   ]
  },
  {
   "cell_type": "code",
   "execution_count": 3,
   "metadata": {},
   "outputs": [],
   "source": [
    "client = chromadb.PersistentClient(path=\"database/myDB\")\n",
    "collection = client.get_or_create_collection(name=\"documents\")\n",
    "registry = client.get_or_create_collection(\"corpus_model_registry\")"
   ]
  },
  {
   "cell_type": "code",
   "execution_count": 5,
   "metadata": {},
   "outputs": [],
   "source": [
    "collection.delete(where={\"corpus_name\": \"Corpus 3\"})"
   ]
  },
  {
   "cell_type": "code",
   "execution_count": 6,
   "metadata": {},
   "outputs": [],
   "source": [
    "import os"
   ]
  },
  {
   "cell_type": "code",
   "execution_count": 7,
   "metadata": {},
   "outputs": [
    {
     "name": "stdout",
     "output_type": "stream",
     "text": [
      "['model1']\n"
     ]
    }
   ],
   "source": [
    "model_dir = os.path.join(\"models\")\n",
    "    \n",
    "if not os.path.exists(model_dir):\n",
    "    print(\"nothing\") # Return empty if no directory\n",
    "\n",
    "# List all directories/files inside model_dir\n",
    "models = [\n",
    "    name for name in os.listdir(model_dir)\n",
    "    if os.path.isdir(os.path.join(model_dir, name))\n",
    "]\n",
    "print(models)\n"
   ]
  },
  {
   "cell_type": "code",
   "execution_count": 13,
   "metadata": {},
   "outputs": [
    {
     "name": "stdout",
     "output_type": "stream",
     "text": [
      "200\n"
     ]
    }
   ],
   "source": [
    "import requests\n",
    "\n",
    "url = \"http://127.0.0.1:8989/queries/model-info\"\n",
    "headers = {\n",
    "    \"accept\": \"application/json\",\n",
    "    \"Content-Type\": \"application/json\"\n",
    "}\n",
    "payload = {\n",
    "    \"config_path\": \"static/config/config.yaml\",\n",
    "    \"model_path\": \"models/model1\"\n",
    "}\n",
    "\n",
    "response = requests.post(url, headers=headers, json=payload)\n",
    "\n",
    "# Print response\n",
    "print(response.status_code)\n",
    "allInfo = response.json()\n"
   ]
  },
  {
   "cell_type": "code",
   "execution_count": 15,
   "metadata": {},
   "outputs": [],
   "source": [
    "import requests\n",
    "\n",
    "def fetch_and_process_model_info(model_path: str, endpoint: str = \"http://127.0.0.1:8989/queries/model-info\"):\n",
    "    headers = {\n",
    "        \"accept\": \"application/json\",\n",
    "        \"Content-Type\": \"application/json\"\n",
    "    }\n",
    "    payload = {\n",
    "        \"config_path\": \"static/config/config.yaml\",\n",
    "        \"model_path\": model_path\n",
    "    }\n",
    "\n",
    "    response = requests.post(endpoint, headers=headers, json=payload)\n",
    "    print(\"Status Code:\", response.status_code)\n",
    "    \n",
    "    if response.status_code != 200:\n",
    "        raise Exception(f\"Request failed with status code {response.status_code}: {response.text}\")\n",
    "    \n",
    "    allInfo = response.json()\n",
    "\n",
    "    themes = []\n",
    "    for i, (key, val) in enumerate(allInfo.items(), start=1):\n",
    "        doc_count = len(val.get(\"top_docs_per_topic\", {}))\n",
    "        themes.append({\n",
    "            \"id\": i,\n",
    "            \"label\": val.get(\"tpc_labels\", f\"Topic {i}\"),\n",
    "            \"document_count\": doc_count\n",
    "        })\n",
    "\n",
    "    # Sort descending by document count\n",
    "    themes = sorted(themes, key=lambda t: t[\"document_count\"], reverse=True)\n",
    "    return themes\n"
   ]
  },
  {
   "cell_type": "code",
   "execution_count": 17,
   "metadata": {},
   "outputs": [
    {
     "name": "stdout",
     "output_type": "stream",
     "text": [
      "Status Code: 200\n"
     ]
    },
    {
     "data": {
      "text/plain": [
       "[{'id': 1, 'label': 'Topic 0', 'document_count': 3},\n",
       " {'id': 2, 'label': 'Topic 1', 'document_count': 3},\n",
       " {'id': 3, 'label': 'Topic 2', 'document_count': 3},\n",
       " {'id': 4, 'label': 'Topic 3', 'document_count': 3},\n",
       " {'id': 5, 'label': 'Topic 4', 'document_count': 3},\n",
       " {'id': 6, 'label': 'Topic 5', 'document_count': 3},\n",
       " {'id': 7, 'label': 'Topic 6', 'document_count': 3},\n",
       " {'id': 8, 'label': 'Topic 7', 'document_count': 3},\n",
       " {'id': 9, 'label': 'Topic 8', 'document_count': 3},\n",
       " {'id': 10, 'label': 'Topic 9', 'document_count': 3}]"
      ]
     },
     "execution_count": 17,
     "metadata": {},
     "output_type": "execute_result"
    }
   ],
   "source": [
    "fetch_and_process_model_info(\"models/model1\")"
   ]
  },
  {
   "cell_type": "code",
   "execution_count": 14,
   "metadata": {},
   "outputs": [
    {
     "name": "stdout",
     "output_type": "stream",
     "text": [
      "{'id': 1, 'label': 'Topic 0', 'document_count': 3}\n",
      "{'id': 2, 'label': 'Topic 1', 'document_count': 3}\n",
      "{'id': 3, 'label': 'Topic 2', 'document_count': 3}\n",
      "{'id': 4, 'label': 'Topic 3', 'document_count': 3}\n",
      "{'id': 5, 'label': 'Topic 4', 'document_count': 3}\n",
      "{'id': 6, 'label': 'Topic 5', 'document_count': 3}\n",
      "{'id': 7, 'label': 'Topic 6', 'document_count': 3}\n",
      "{'id': 8, 'label': 'Topic 7', 'document_count': 3}\n",
      "{'id': 9, 'label': 'Topic 8', 'document_count': 3}\n",
      "{'id': 10, 'label': 'Topic 9', 'document_count': 3}\n"
     ]
    }
   ],
   "source": [
    "import json\n",
    "themes = []\n",
    "for i, (key, val) in enumerate(allInfo.items(), start=1):\n",
    "    doc_count = len(val.get(\"top_docs_per_topic\", {}))\n",
    "    themes.append({\n",
    "        \"id\": i,\n",
    "        \"label\": val.get(\"tpc_labels\", f\"Topic {i}\"),\n",
    "        \"document_count\": doc_count\n",
    "    })\n",
    "\n",
    "# Sort descending by document count\n",
    "themes = sorted(themes, key=lambda t: t[\"document_count\"], reverse=True)\n",
    "\n",
    "# Example usage\n",
    "for t in themes:\n",
    "    print(t)\n"
   ]
  },
  {
   "cell_type": "code",
   "execution_count": 12,
   "metadata": {},
   "outputs": [
    {
     "data": {
      "text/plain": [
       "{'alphas': '17.07%',\n",
       " 'tpc_labels': 'Topic 0',\n",
       " 'tpc_descriptions': 'federal, state, requirements, law, information, entity, agency, action, contract, act, prohibits, order, court, person, authorized',\n",
       " 'top_docs_per_topic': {'doc_newDat/newwssss.csv_194': 'employment non discrimination act prohibits employment discrimination basis actual perceived sexual orientation gender identity covered entities employers employment agencies labor organizations joint labor management committees prohibits preferential treatment quotas allows disparate treatment claims prohibits related retaliation makes act inapplicable religious organizations relationship united_states members armed_forces declares act repeal modify federal state territorial local law creating special right preference concerning employment veteran prohibits act construed prohibit employer requiring employee adhere reasonable dress grooming standards require construction new additional facilities eeoc compelling collection requiring production statistics covered entities actual perceived sexual orientation gender identity provides enforcement including giving eeoc librarian congress loc attorney general doj courts enforcement powers specified provisions civil rights act government employee rights act specified laws allows actions proceedings subject exception united_states states',\n",
       "  'doc_dat/bills_.csv_387': 'requires ensure maximum extent practicable automated stamp vending machines provided facilities owned control postal_service provide retail services public exempts automated stamp vending machines locations requirements business operations conducted postal_service certain entities fully capable accepting coins',\n",
       "  'doc_dat/new_bills.csv_387': 'requires ensure maximum extent practicable automated stamp vending machines provided facilities owned control postal_service provide retail services public exempts automated stamp vending machines locations requirements business operations conducted postal_service certain entities fully capable accepting coins'}}"
      ]
     },
     "execution_count": 12,
     "metadata": {},
     "output_type": "execute_result"
    }
   ],
   "source": [
    "allInfo[\"t0\"]"
   ]
  },
  {
   "cell_type": "code",
   "execution_count": null,
   "metadata": {},
   "outputs": [],
   "source": []
  }
 ],
 "metadata": {
  "kernelspec": {
   "display_name": "topic",
   "language": "python",
   "name": "python3"
  },
  "language_info": {
   "codemirror_mode": {
    "name": "ipython",
    "version": 3
   },
   "file_extension": ".py",
   "mimetype": "text/x-python",
   "name": "python",
   "nbconvert_exporter": "python",
   "pygments_lexer": "ipython3",
   "version": "3.11.5"
  },
  "orig_nbformat": 4
 },
 "nbformat": 4,
 "nbformat_minor": 2
}
