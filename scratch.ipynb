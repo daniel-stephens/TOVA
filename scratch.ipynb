{
 "cells": [
  {
   "cell_type": "code",
   "execution_count": 1,
   "metadata": {},
   "outputs": [],
   "source": [
    "import chromadb"
   ]
  },
  {
   "cell_type": "code",
   "execution_count": 3,
   "metadata": {},
   "outputs": [],
   "source": [
    "client = chromadb.PersistentClient(path=\"database/myDB\")\n",
    "collection = client.get_or_create_collection(name=\"documents\")\n",
    "registry = client.get_or_create_collection(\"corpus_model_registry\")"
   ]
  },
  {
   "cell_type": "code",
   "execution_count": 5,
   "metadata": {},
   "outputs": [],
   "source": [
    "collection.delete(where={\"corpus_name\": \"Corpus 3\"})"
   ]
  },
  {
   "cell_type": "code",
   "execution_count": 6,
   "metadata": {},
   "outputs": [],
   "source": [
    "import os"
   ]
  },
  {
   "cell_type": "code",
   "execution_count": 7,
   "metadata": {},
   "outputs": [
    {
     "name": "stdout",
     "output_type": "stream",
     "text": [
      "['model1']\n"
     ]
    }
   ],
   "source": [
    "model_dir = os.path.join(\"models\")\n",
    "    \n",
    "if not os.path.exists(model_dir):\n",
    "    print(\"nothing\") # Return empty if no directory\n",
    "\n",
    "# List all directories/files inside model_dir\n",
    "models = [\n",
    "    name for name in os.listdir(model_dir)\n",
    "    if os.path.isdir(os.path.join(model_dir, name))\n",
    "]\n",
    "print(models)\n"
   ]
  },
  {
   "cell_type": "code",
   "execution_count": null,
   "metadata": {},
   "outputs": [],
   "source": []
  }
 ],
 "metadata": {
  "kernelspec": {
   "display_name": "topic",
   "language": "python",
   "name": "python3"
  },
  "language_info": {
   "codemirror_mode": {
    "name": "ipython",
    "version": 3
   },
   "file_extension": ".py",
   "mimetype": "text/x-python",
   "name": "python",
   "nbconvert_exporter": "python",
   "pygments_lexer": "ipython3",
   "version": "3.11.5"
  },
  "orig_nbformat": 4
 },
 "nbformat": 4,
 "nbformat_minor": 2
}
