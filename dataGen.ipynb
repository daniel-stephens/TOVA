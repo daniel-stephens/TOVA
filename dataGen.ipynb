{
 "cells": [
  {
   "cell_type": "code",
   "execution_count": 1,
   "metadata": {},
   "outputs": [],
   "source": [
    "import pandas as pd"
   ]
  },
  {
   "cell_type": "code",
   "execution_count": null,
   "metadata": {},
   "outputs": [],
   "source": [
    "data =[\n",
    "    {\"Document Number\": 1, \"Content\": \"This is the first document.\", \"Category\": \"General\"},\n",
    "    {\"Document Number\": 2, \"Content\": \"This is the second document.\", \"Category\": \"Finance\"},\n",
    "    {\"Document Number\": 3, \"Content\": \"This is the third document.\", \"Category\": \"Health\"}]"
   ]
  },
  {
   "cell_type": "code",
   "execution_count": 3,
   "metadata": {},
   "outputs": [
    {
     "name": "stdout",
     "output_type": "stream",
     "text": [
      "CSV file 'converted_data.csv' has been created successfully.\n"
     ]
    }
   ],
   "source": [
    "import pandas as pd\n",
    "\n",
    "# Define the data\n",
    "data = [\n",
    "    {\"Document Number\": 1, \"Content\": \"My name is Betty\", \"Category\": \"General\"},\n",
    "    {\"Document Number\": 2, \"Content\": \"I am married to a handsome guy called Fiifi\", \"Category\": \"Finance\"},\n",
    "    {\"Document Number\": 3, \"Content\": \"He will be rich in Jesus' name\", \"Category\": \"Health\"}\n",
    "]\n",
    "\n",
    "# Convert to DataFrame\n",
    "df = pd.DataFrame(data)\n",
    "\n",
    "# Save as CSV file\n",
    "df.to_csv(\"betty.csv\", index=False)\n",
    "\n",
    "print(\"CSV file 'converted_data.csv' has been created successfully.\")\n"
   ]
  },
  {
   "cell_type": "code",
   "execution_count": null,
   "metadata": {},
   "outputs": [],
   "source": []
  }
 ],
 "metadata": {
  "kernelspec": {
   "display_name": "environ",
   "language": "python",
   "name": "python3"
  },
  "language_info": {
   "codemirror_mode": {
    "name": "ipython",
    "version": 3
   },
   "file_extension": ".py",
   "mimetype": "text/x-python",
   "name": "python",
   "nbconvert_exporter": "python",
   "pygments_lexer": "ipython3",
   "version": "3.10.12"
  }
 },
 "nbformat": 4,
 "nbformat_minor": 2
}
